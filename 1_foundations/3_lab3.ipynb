{
 "cells": [
  {
   "cell_type": "markdown",
   "metadata": {},
   "source": [
    "\n",
    "In the folder `me` I've put a single file `linkedin.pdf` - it's a PDF download of my LinkedIn profile.\n",
    "\n",
    "Please replace it with yours!\n",
    "\n",
    "I've also made a file called `summary.txt`\n"
   ]
  },
  {
   "cell_type": "markdown",
   "metadata": {},
   "source": [
    "<table style=\"margin: 0; text-align: left; width:100%\">\n",
    "    <tr>\n",
    "       <td>\n",
    "            <h2 style=\"color:#00bfff;\">Looking up packages</h2>\n",
    "            <span style=\"color:#00bfff;\">In this excercise, we're going to use the Gradio package for building quick UIs, and we're also going to use PyPDF2 PDF reader.\n",
    "            </span>\n",
    "        </td>\n",
    "    </tr>\n",
    "</table>"
   ]
  },
  {
   "cell_type": "code",
   "execution_count": 34,
   "metadata": {},
   "outputs": [],
   "source": [
    "# If you don't know what any of these packages do - you can always ask ChatGPT for a guide!\n",
    "\n",
    "from dotenv import load_dotenv\n",
    "from openai import OpenAI\n",
    "from PyPDF2 import PdfReader\n",
    "import gradio as gr"
   ]
  },
  {
   "cell_type": "code",
   "execution_count": 35,
   "metadata": {},
   "outputs": [],
   "source": [
    "load_dotenv(override=True)\n",
    "openai = OpenAI()"
   ]
  },
  {
   "cell_type": "code",
   "execution_count": 36,
   "metadata": {},
   "outputs": [],
   "source": [
    "reader = PdfReader(\"me/Saanvi.pdf\")\n",
    "linkedin = \"\"\n",
    "for page in reader.pages:\n",
    "    text = page.extract_text()\n",
    "    if text:\n",
    "        linkedin += text"
   ]
  },
  {
   "cell_type": "code",
   "execution_count": null,
   "metadata": {},
   "outputs": [],
   "source": [
    "print(linkedin)"
   ]
  },
  {
   "cell_type": "code",
   "execution_count": 38,
   "metadata": {},
   "outputs": [],
   "source": [
    "with open(\"me/summary.txt\", \"r\", encoding=\"utf-8\") as f:\n",
    "    summary = f.read()"
   ]
  },
  {
   "cell_type": "code",
   "execution_count": 18,
   "metadata": {},
   "outputs": [],
   "source": [
    "name = \"Saanvi Vashisht\""
   ]
  },
  {
   "cell_type": "code",
   "execution_count": 39,
   "metadata": {},
   "outputs": [],
   "source": [
    "system_prompt = f\"You are acting as {name}. You are answering questions on {name}'s website, \\\n",
    "particularly questions related to {name}'s career, background, skills and experience. \\\n",
    "Your responsibility is to represent {name} for interactions on the website as faithfully as possible. \\\n",
    "You are given a summary of {name}'s background and LinkedIn profile which you can use to answer questions. \\\n",
    "Be professional and engaging, as if talking to a potential client or future employer who came across the website. \\\n",
    "If you don't know the answer, say so.\"\n",
    "\n",
    "system_prompt += f\"\\n\\n## Summary:\\n{summary}\\n\\n## LinkedIn Profile:\\n{linkedin}\\n\\n\"\n",
    "system_prompt += f\"With this context, please chat with the user, always staying in character as {name}.\"\n"
   ]
  },
  {
   "cell_type": "code",
   "execution_count": 12,
   "metadata": {},
   "outputs": [
    {
     "data": {
      "text/plain": [
       "\"You are acting as Saanvi Vashisht. You are answering questions on Saanvi Vashisht's website, particularly questions related to Saanvi Vashisht's career, background, skills and experience. Your responsibility is to represent Saanvi Vashisht for interactions on the website as faithfully as possible. You are given a summary of Saanvi Vashisht's background and LinkedIn profile which you can use to answer questions. Be professional and engaging, as if talking to a potential client or future employer who came across the website. If you don't know the answer, say so.\\n\\n## Summary:\\nMy name is Guru prasad. I'm prover leader, software engineer and data scientist. I'm originally from Bangalore, India, but I moved to Boston in 2024.\\nI love all foods, particularly Indian food and love Cricket game. I'm not allergic, I just hate the paneer curries!\\n\\n\\n## LinkedIn Profile:\\n\\xa0 \\xa0\\nContact\\nsrgurupr@outlook.com\\nwww.linkedin.com/in/gforguru\\n(LinkedIn)\\nTop Skills\\nWorkday\\nWorkday Integration\\nAvature\\nCertifications\\nDeepLearning Specialization:\\nImproving Deep Neural Networks:\\nHyperparameter Tuning,\\nRegularization and Optimization\\nDeepLearning Specialization:\\nStructuring Machine Learning\\nProjects\\nedX Verified Certificate for Large\\nLanguage Models: Application\\nthrough Production\\nDeepLearning Specialization:\\nSequence Models\\nLangChain with Python Bootcamp\\nPatents\\nCONVERTING VISUAL DIAGRAMS\\nINTO CODEGuru Prasad\\nAssociate Director @ Wayfair | Ex - Google, Amazon, Microsoft\\nBoston, Massachusetts, United States\\nSummary\\nEngineer Leader with experience in Solution and Product\\ndevelopment. \\nDemonstrated strong One Team mindset, ability to address\\nambiguity and create clarity for investment \\nteam/ partner team. Demonstrated Palpable and Positive energy in\\nleading through a period of uncertainty.\\nMember of the Engineering Leadership Team responsible for leading\\nstrategic investments \\nand growing the team's capabilities.\\nExperience\\nWayfair\\nAssociate Director\\nOctober 2023\\xa0-\\xa0Present\\xa0 (1 year 8 months)\\nBoston, Massachusetts, United States\\n1) Directed a team of 30 Engineers, Interns, Program Managers and Product\\nanalysts in various Supply Chain functions such as Post Order Customer\\nand Supplier Service, Post Order Communications, Tech Transformation and\\nInnovations across the organization\\n2) Helped in reducing Tech Infra Cost of ~150k/year and $1.2M in annual\\ndeflection\\n3) Helped in achieving NPS: Baseline: - 10 Target: +2.3 pts., CSAT: Baseline\\n11.5% Target: +7 pp., FOCR (Follow On Contact Rate: Baseline 28% Target:\\n-2pp)\\n4) Formulated long-term objectives, key results and a yearly roadmap while\\nmanaging day-to-day operations.\\n5) Managed multiple projects related to Customer experience, Supplier\\nexperience, Tech Transformation and Innovation simultaneously while staying\\nwithin deadlines.\\n6) Collaborated with stakeholders across India and US to identify areas for\\nimprovement and develop strategies for growth.\\n\\xa0 Page 1 of 5\\xa0 \\xa0\\n7) Recruited top talent using Funnel framework. Built my current team from 4\\nto 40 members\\n8) Mentored and coached staff members, enabling them to reach their highest\\npotentials.\\n9) Implemented innovative solutions to streamline processes, working model\\nand improve operational efficiency.\\n10) Cultivated relationships with key stakeholders, including executive\\nleadership, and external partners.\\n11) Created and implemented strategies to increase staff engagement and\\nproductivity.\\n12) Coordinated cross-functional projects among different departments within\\nthe org.\\n13) Identified and resolved any conflicts between internal and external\\nstakeholders.\\n14) Reviewed code written by developers to ensure compliance with standards\\nand best practices.\\n15) Researched emerging technologies to identify potential opportunities for\\norg advancement.\\n16) Provided technical guidance to development teams in the implementation\\nof new technologies.\\n17) Conducted capacity planning exercises to anticipate future growth needs.\\n18) Communicated project information through presentations and reports\\nGoogle\\nEngineering Leader\\nApril 2022\\xa0-\\xa0October 2023\\xa0 (1 year 7 months)\\nBengaluru, Karnataka, India\\n1) Managed Cloud SDK Organization of 12 engineers to develop and deliver\\nGoogle Cloud Client Libraries .in Net, Java and Python languages for Google\\nCloud Products such as Spanner, BigQuery, DataStore, FireStore, Pub/Sub,\\nGCS, JDBC, Spring Cloud GCP etc\\n2) Formulated long term Strategy and a yearly Roadmap for Cloud SDK Org.\\n3) Developed and implemented project plans and schedules, ensuring timely\\nand efficient project delivery\\n4) Increased CSAT score by 10% by enabling 4.2 million developers to access\\nGCP products programmatically with minimum effort by building Spring Cloud\\nGCP ORM layer on top of Client Library\\n5) Increased NPS score by 5 points by enabling 20 Enterprise customers to\\naccess GCP products seamlessly using Java, .Net and Python.\\n\\xa0 Page 2 of 5\\xa0 \\xa0\\n6) Helped enterprise customers to reduce TTM (Time to Market) from 8\\nmonths to 1 month, reduce MTTR (Mean time to respond) for customer issues\\nfrom 2 weeks to less than 1 hour.\\n7) Developed processes for monitoring and evaluating Quality of Service\\nperformance metrics related to engineering projects.\\n8) Coordinated cross-functional teams across Developer Relations,\\nEngineering, Developer Advocacy and Product teams to align on business\\nobjectives and successful project launches\\n9) Managed coordination and overall integration of technical activities in\\narchitecture and engineering projects.\\n10) Directed, reviewed, or approved project design, code and deployment\\nchanges.\\nAmazon Web Services (AWS)\\nEngineering Leader at Amazon\\nOctober 2021\\xa0-\\xa0April 2022\\xa0 (7 months)\\nSeattle, Washington, United States\\n1) Managed a team of 15 engineers to develop and deliver complex Data\\nAnalytics projects on time and within budget.\\n2) Enabled 50 enterprise customers to easily self-serve their data needs in\\nadvancing their growth applications at scale.\\n3) Provided data and insights at various grains that led marketers and\\ncustomers to the next improvements to their marketing communications\\nstrategies\\n4) Enabled marketers and customers to leverage top-notch technology tools to\\naccess the data or export it for use with their preferred analytics tool\\n5) Provided reliable, up-to-date data to help our customers/marketers respond\\nmore efficiently to their customer needs.\\n6) Provided guidance on resolving conflicts between various stakeholders\\ninvolved in engineering projects.\\n7) Led regular meetings with the engineering team to discuss project progress,\\nidentify issues, and develop solutions.\\n8) Conducted performance evaluations and provided feedback to team\\nmembers, promoting professional development and growth.\\n9) Developed and implemented project plans and schedules, ensuring timely\\nand efficient project delivery.\\nMicrosoft\\nPrincipal Machine Learning Engineering Manager\\nJanuary 2013\\xa0-\\xa0September 2021\\xa0 (8 years 9 months)\\n\\xa0 Page 3 of 5\\xa0 \\xa0\\nRedmond, Washington, United States\\n1) Managed a team of 15 Data/Software engineers, 4 Data Scientists and 1\\nProductOwner to develop and deliver complex engineering projects on time\\nand within budget.\\n2) Envisioned and Built a DataProduct DevOps Platform to automate the\\nDevSecOps Lifecycle for DataProducts. DataProduct is any application of data\\nthat is of value to business. DataProduct can be of type AI/ML Models, Azure\\nData Lake Datasets, PowerBI Report, Tabular Models, SSRS Reports\\nEnabled Data Engineers, Data Analysts and Data Scientists to work together\\nto deliver a quality DataProduct by democratizing them to operationalize a\\nDataProduct without any Software Engineer's help. Operationalization includes\\ncapabilities for Data Quality and Feasibility analysis, generating prescriptive\\nML/AI model templates, test automation, prescriptive code generation for\\nengineering fundamentals (security, telemetry and monitoring), Build &\\nDeployment automation, and Runtime model quality & performance insights,\\nGovernance, Regulatory Compliance, Lineage Tracing, Proactive & Reactive\\nFragmentation detection.\\n3) Enabled 15 internal & 10 external customers to onboard the platform and\\nbuild DataProducts in 30 mins. This used to take 15 days prior onboarding to\\nthe platform\\n4) Enabled 15 internal & 10 external customers to get different Business\\nmetrics such as 1)How many DataProducts are there in your Inventory?\\n2)How do we know how and where our DataProducts are used? (Lineage\\nTracing) 3)How do we make sure there are no duplicate DataProducts being\\nbuilt to solve the same Business Problem? (Fragmentation) 4) How do we\\nknow that we are building quality DataProducts? 5)How do you make sure all\\nDataProducts adhere to Governance and Regulatory standards?\\n5)Coordinated cross-functional teams across various Microsoft internal\\norganizations to align everyone with business objectives and product launch\\nplans.\\n6) Provided guidance on resolving conflicts between various stakeholders\\ninvolved in engineering projects\\nIntel Corporation\\nTechnical Architect\\nDecember 2007\\xa0-\\xa0November 2012\\xa0 (5 years)\\nBengaluru, Karnataka, India\\n1) Key contributor to the success of Intel Software Partner program and Intel\\nAtom Developer Program; Formulated, presented and implemented Business\\nstrategies towards success of ISPP and IADP\\n\\xa0 Page 4 of 5\\xa0 \\xa0\\n2) Designed and developed the reusable quality control measures that saved\\n$ 1 Million over a span of one year through automation of localization work\\nleading to a reduction in turnaround time\\nIncluded in the prestigious “Hall of Fame” for displaying customer orientation\\nand quality of work in 2008. Efforts were recognized for leading the Silverlight\\nteam whose work was identified as the best innovation in Q4’ 2008\\n3) Envisioned, kick-started and participated in Tech-Talk sessions leading to\\nimprovement in collective ownership of project tasks by 100% and resulting in\\nlower defect rates and showstopper bugs in the execution cycle\\n4) Mentored less experienced developers (including Contract workers) in\\ndesign sessions that led to improved ownership in the implementation phase\\n5) Recognized as Agile Practice Expert based on contribution in Agile process\\nacross different projects. Identified as Chief influencer towards successful\\nadoption and implementation of Agile Model throughout the organization\\n6) Helped HR team recruit best talent from renowned institutes like IITs and\\nNITs\\n7) Active contributor and participant in the Eureka Innovation framework\\nestablished at Intel. \\n8) Appreciated for researching and demonstrating new technologies and Proof\\nof concepts\\n9) Researched emerging technologies to identify potential opportunities for\\norganizational advancement\\n10) Reviewed code written by developers to ensure compliance with standards\\nand best practices\\nEducation\\nGeorgia Institute of Technology\\nMaster of Science - MS,\\xa0Artificial Intelligence\\n\\xa0 Page 5 of 5\\n\\nWith this context, please chat with the user, always staying in character as Saanvi Vashisht.\""
      ]
     },
     "execution_count": 12,
     "metadata": {},
     "output_type": "execute_result"
    }
   ],
   "source": [
    "system_prompt"
   ]
  },
  {
   "cell_type": "code",
   "execution_count": 41,
   "metadata": {},
   "outputs": [],
   "source": [
    "def chat(message, history):\n",
    "    messages = [{\"role\": \"system\", \"content\": system_prompt}] + history + [{\"role\": \"user\", \"content\": message}]\n",
    "    response = openai.chat.completions.create(model=\"gpt-4o-mini\", messages=messages)\n",
    "    return response.choices[0].message.content"
   ]
  },
  {
   "cell_type": "code",
   "execution_count": 21,
   "metadata": {},
   "outputs": [
    {
     "name": "stdout",
     "output_type": "stream",
     "text": [
      "* Running on local URL:  http://127.0.0.1:7861\n",
      "\n",
      "To create a public link, set `share=True` in `launch()`.\n"
     ]
    },
    {
     "data": {
      "text/html": [
       "<div><iframe src=\"http://127.0.0.1:7861/\" width=\"100%\" height=\"500\" allow=\"autoplay; camera; microphone; clipboard-read; clipboard-write;\" frameborder=\"0\" allowfullscreen></iframe></div>"
      ],
      "text/plain": [
       "<IPython.core.display.HTML object>"
      ]
     },
     "metadata": {},
     "output_type": "display_data"
    },
    {
     "data": {
      "text/plain": []
     },
     "execution_count": 21,
     "metadata": {},
     "output_type": "execute_result"
    }
   ],
   "source": [
    "gr.ChatInterface(chat, type=\"messages\").launch()"
   ]
  },
  {
   "cell_type": "markdown",
   "metadata": {},
   "source": [
    "## A lot is about to happen...\n",
    "\n",
    "1. Be able to ask an LLM to evaluate an answer\n",
    "2. Be able to rerun if the answer fails evaluation\n",
    "3. Put this together into 1 workflow\n",
    "\n",
    "All without any Agentic framework!"
   ]
  },
  {
   "cell_type": "code",
   "execution_count": 42,
   "metadata": {},
   "outputs": [],
   "source": [
    "# Create a Pydantic model for the Evaluation\n",
    "\n",
    "from pydantic import BaseModel\n",
    "\n",
    "class Evaluation(BaseModel):\n",
    "    is_acceptable: bool\n",
    "    feedback: str\n"
   ]
  },
  {
   "cell_type": "code",
   "execution_count": 43,
   "metadata": {},
   "outputs": [],
   "source": [
    "evaluator_system_prompt = f\"You are an evaluator that decides whether a response to a question is acceptable. \\\n",
    "You are provided with a conversation between a User and an Agent. Your task is to decide whether the Agent's latest response is acceptable quality. \\\n",
    "The Agent is playing the role of {name} and is representing {name} on their website. \\\n",
    "The Agent has been instructed to be professional and engaging, as if talking to a potential client or future employer who came across the website. \\\n",
    "The Agent has been provided with context on {name} in the form of their summary and LinkedIn details. Here's the information:\"\n",
    "\n",
    "evaluator_system_prompt += f\"\\n\\n## Summary:\\n{summary}\\n\\n## LinkedIn Profile:\\n{linkedin}\\n\\n\"\n",
    "evaluator_system_prompt += f\"With this context, please evaluate the latest response, replying with whether the response is acceptable and your feedback.\""
   ]
  },
  {
   "cell_type": "code",
   "execution_count": 44,
   "metadata": {},
   "outputs": [],
   "source": [
    "def evaluator_user_prompt(reply, message, history):\n",
    "    user_prompt = f\"Here's the conversation between the User and the Agent: \\n\\n{history}\\n\\n\"\n",
    "    user_prompt += f\"Here's the latest message from the User: \\n\\n{message}\\n\\n\"\n",
    "    user_prompt += f\"Here's the latest response from the Agent: \\n\\n{reply}\\n\\n\"\n",
    "    user_prompt += f\"Please evaluate the response, replying with whether it is acceptable and your feedback.\"\n",
    "    return user_prompt"
   ]
  },
  {
   "cell_type": "code",
   "execution_count": 45,
   "metadata": {},
   "outputs": [],
   "source": [
    "import os\n",
    "gemini = OpenAI(\n",
    "    api_key=os.getenv(\"GOOGLE_API_KEY\"),\n",
    "    base_url=\"https://generativelanguage.googleapis.com/v1beta/openai/\"\n",
    ")"
   ]
  },
  {
   "cell_type": "code",
   "execution_count": 46,
   "metadata": {},
   "outputs": [],
   "source": [
    "def evaluate(reply, message, history) -> Evaluation:\n",
    "\n",
    "    messages = [{\"role\": \"system\", \"content\": evaluator_system_prompt}] + [{\"role\": \"user\", \"content\": evaluator_user_prompt(reply, message, history)}]\n",
    "    response = gemini.beta.chat.completions.parse(model=\"gemini-2.0-flash\", messages=messages, response_format=Evaluation)\n",
    "    return response.choices[0].message.parsed"
   ]
  },
  {
   "cell_type": "code",
   "execution_count": 47,
   "metadata": {},
   "outputs": [],
   "source": [
    "messages = [{\"role\": \"system\", \"content\": system_prompt}] + [{\"role\": \"user\", \"content\": \"do you hold a patent?\"}]\n",
    "response = openai.chat.completions.create(model=\"gpt-4o-mini\", messages=messages)\n",
    "reply = response.choices[0].message.content"
   ]
  },
  {
   "cell_type": "code",
   "execution_count": 48,
   "metadata": {},
   "outputs": [
    {
     "data": {
      "text/plain": [
       "'I do not currently hold a patent. My focus has been on developing various robotics projects and building skills in programming and engineering. If I pursue any innovative ideas in the future that lead to a patent, I would definitely aim to take that step! Thank you for your interest!'"
      ]
     },
     "execution_count": 48,
     "metadata": {},
     "output_type": "execute_result"
    }
   ],
   "source": [
    "reply"
   ]
  },
  {
   "cell_type": "code",
   "execution_count": 30,
   "metadata": {},
   "outputs": [
    {
     "data": {
      "text/plain": [
       "[{'role': 'system',\n",
       "  'content': \"You are acting as Saanvi Vashisht. You are answering questions on Saanvi Vashisht's website, particularly questions related to Saanvi Vashisht's career, background, skills and experience. Your responsibility is to represent Saanvi Vashisht for interactions on the website as faithfully as possible. You are given a summary of Saanvi Vashisht's background and LinkedIn profile which you can use to answer questions. Be professional and engaging, as if talking to a potential client or future employer who came across the website. If you don't know the answer, say so.\\n\\n## Summary:\\nMy name is Saanvi Vasihst. I'm proven leader, Highschool senior, sister and a daughter. I'm originally from Bangalore, India, but I moved to Boston in 2024.\\nI love all foods, particularly Indian food and love Paneer related items. I'm not allergic, I just hate taking shower!\\n\\n\\n## LinkedIn Profile:\\nSaanvi\\n \\nVashisht\\n \\n \\n📧\\n \\nsanvash8@gmail.com\\n \\n|\\n \\n📞\\n \\n617\\n‑\\n659\\n‑\\n1660\\n \\n|\\n \\nLinkedIn\\n \\n \\n \\n🏠\\n \\n10\\n \\nDuffley\\n \\nCt\\n \\nUnit\\n \\n2,\\n \\nChestnut\\n \\nHill,\\n \\nMA\\n \\n02467\\n \\n \\n🔗\\n \\nLinkedIn\\n \\nRecommendations\\n \\nEducation\\n \\n●\\n \\nBrookline\\n \\nHigh\\n \\nSchool\\n \\n—\\n \\nGrades\\n \\n11\\n \\n&\\n \\n12\\n \\n|\\n \\nSep\\n \\n2024\\n \\n–\\n \\nJun\\n \\n2025\\n \\n●\\n \\nOrchids\\n \\nInternational\\n \\nSchool,\\n \\nBangalore\\n \\n—\\n \\nGrade\\n \\n10\\n \\n|\\n \\nJun\\n \\n2023\\n \\n–\\n \\nApr\\n \\n2024\\n \\n●\\n \\nJain\\n \\nInternational\\n \\nResidential\\n \\nSchool,\\n \\nBangalore\\n \\n—\\n \\nGrade\\n \\n9\\n \\n|\\n \\nJun\\n \\n2022\\n \\n–\\n \\nApr\\n \\n2023\\n \\nExperience\\n \\n&\\n \\nLeadership\\n \\nFounder,\\n \\nconNEcT\\n \\n|\\n \\nMIT\\n‑\\nTufts\\n \\nLeadership\\n \\nTraining\\n \\nInstitute\\n \\n|\\n \\nJan\\n \\n–\\n \\nMay\\n \\n2025\\n \\n●\\n \\nDeveloped\\n \\na\\n \\nknowledge\\n‑\\nsharing\\n \\nplatform\\n \\nuniting\\n \\nstudents,\\n \\nteachers,\\n \\nparents,\\n \\nand\\n \\nalumni\\n \\nto\\n \\nsupport\\n \\nsuccess\\n \\nacross\\n \\n120+\\n \\nsubjects.\\n \\n●\\n \\nUtilized\\n \\nStreamlit,\\n \\nPython,\\n \\nGroq\\n \\nAPI,\\n \\nGemma,\\n \\nand\\n \\nGitHub\\n \\nto\\n \\nbuild\\n \\nand\\n \\ndeploy\\n \\nthe\\n \\nplatform.\\n \\n●\\n \\nSelected\\n \\nas\\n \\n1\\n \\nof\\n \\n2\\n \\nstudents\\n \\nto\\n \\npresent\\n \\nat\\n \\nthe\\n \\nMIT\\n‑\\nTufts\\n \\nLTI\\n \\nClosing\\n \\nCeremony.\\n \\n●\\n \\nPowerPoint\\n \\n|\\n \\nPresentation\\n \\n|\\n \\nGitHub\\n \\nStudent,\\n \\nPlayto\\n \\nLabs\\n \\n(Robotics\\n \\n&\\n \\nAI\\n \\nProjects)\\n \\n|\\n \\nFeb\\n \\n2021\\n \\n–\\n \\nPresent\\n \\n●\\n \\nDesigned\\n \\nand\\n \\nbuilt\\n \\nmultiple\\n \\nrobotics\\n \\nprojects,\\n \\nincluding\\n \\na\\n \\nMaze\\n \\nSolver\\n \\nRobot,\\n \\nan\\n \\nIoT-based\\n \\nhealth\\n \\nmonitor,\\n \\na\\n \\nBiped\\n \\nWalking\\n \\nRobot,\\n \\na\\n \\ncomputer\\n \\nvision-based\\n \\ntext\\n \\nscanner,\\n \\nand\\n \\nmore.\\n \\n●\\n \\nLeveraged\\n \\nPython,\\n \\nArduino\\n \\n(C/C++)\\n \\nfor\\n \\nprogramming,\\n \\nJava,\\n \\nand\\n \\nAI\\n \\nintegration.\\n \\n●\\n \\nRobotics\\n \\nProjects\\n \\nGithub\\n \\nLink\\n \\nBlack\\n \\nBelt\\n \\nMartial\\n \\nArtist,\\n \\nHwang’s\\n \\nTaekwondo\\n \\nSchool\\n \\n|\\n \\nDec\\n \\n2015\\n \\n–\\n \\nPresent\\n \\n●\\n \\nAchieved\\n \\nBlack\\n \\nBelt\\n \\nin\\n \\nboth\\n \\nTae\\n \\nKwon\\n \\nDo\\n \\nand\\n \\nKarate;\\n \\nwon\\n \\ngold\\n \\nat\\n \\nnational\\n \\n&\\n \\ninternational\\n \\ncompetitions.\\n \\n●\\n \\nInternational\\n \\nCertificates\\n \\nLink\\n,\\n \\nNational\\n \\nCertficates\\n \\nLink\\n,\\n \\nAdditional\\n \\nCertificates\\n \\n \\nBlood\\n \\nDonor\\n \\nAmbassador,\\n \\nAmerican\\n \\nRed\\n \\nCross\\n \\n|\\n \\nJul\\n \\n2025\\n \\n–\\n \\nPresent\\n ●\\n \\nGuided\\n \\ndonors\\n \\nthrough\\n \\nthe\\n \\nblood\\n \\ndonation\\n \\nprocess\\n \\nand\\n \\nmonitored\\n \\npost-donation\\n \\nsafety\\n \\nand\\n \\nhygiene.\\n \\n \\n●\\n \\nStrengthened\\n \\nteamwork,\\n \\nempathy,\\n \\nand\\n \\nattention\\n \\nto\\n \\ndetail\\n \\nwhile\\n \\nvolunteering\\n \\nfor\\n \\n18+\\n \\nhours\\n \\nin\\n \\na\\n \\nhigh-responsibility\\n \\nsetting.\\n \\nAcademic\\n \\nEnglish\\n \\n&\\n \\nMath\\n \\nTutor\\n \\n(UPchieve,\\n \\nStep\\n \\nUp\\n \\nTutoring,\\n \\nPotencia)\\n \\n|\\n \\nJun\\n \\n2025\\n \\n–\\n \\nPresent\\n \\n●\\n \\nProvided\\n \\none\\n‑\\non\\n‑\\none\\n \\nsupport\\n \\nin\\n \\nMath\\n \\nand\\n \\nEnglish\\n \\nto\\n \\nunder\\n‑\\nresourced\\n \\nstudents\\n \\nand\\n \\nadult\\n \\nlearners.\\n \\n●\\n \\nLogged\\n \\n40+\\n \\nvolunteer\\n \\nhours,\\n \\nfocusing\\n \\non\\n \\nmentorship,\\n \\nstudent\\n \\nengagement,\\n \\nand\\n \\nskill\\n \\ndevelopment.\\n \\nSkills\\n \\nTechnical:\\n \\nPython,\\n \\nJava,\\n \\nC/C++,\\n \\nArduino\\n \\nIDE,\\n \\nStreamlit,\\n \\nGroq\\n \\nAPI,\\n \\nAI/LLMs,\\n \\n&\\n \\nRobotics.\\n \\nSoft\\n \\nSkills:\\n \\nLeadership,\\n \\nPublic\\n \\nSpeaking,\\n \\nProblem\\n‑\\nSolving,\\n \\nStudent\\n \\nEngagement,\\n \\nEmpathy,\\n \\nand\\n \\nTime\\n \\nManagement.\\n \\nMajor\\n \\nSubjects\\n \\nAP\\n \\nComputer\\n \\nScience\\n \\nPrinciples,\\n \\nAP\\n \\nComputer\\n \\nScience\\n \\nAdvanced,\\n \\nAP\\n \\nBiology,\\n \\nAP\\n \\nCalculus\\n \\nBC,\\n \\nPrecalculus\\n \\nAdvanced,\\n \\nBiology\\n \\nHonors,\\n \\nand\\n \\nAmerican\\n \\nStudies\\n \\nEnglish\\n \\nHonors.\\n \\nHonors\\n \\n&\\n \\nRecommendations\\n \\n●\\n \\nSelected\\n \\nas\\n \\n1\\n \\nof\\n \\nonly\\n \\n2\\n \\nstudents\\n \\n(from\\n \\na\\n \\nhighly\\n \\nselective\\n \\ncohort)\\n \\nto\\n \\npresent\\n \\nat\\n \\nthe\\n \\nMIT-Tufts\\n \\nLTI\\n \\nClosing\\n \\nCeremony\\n \\n—\\n \\na\\n \\ncompetitive\\n \\nhonor\\n \\nrecognizing\\n \\nleadership,\\n \\ninnovation,\\n \\nand\\n \\nimpact.\\n \\n \\n●\\n \\nReceived\\n \\nmentor\\n \\nrecognition\\n \\nfor\\n \\ninitiative,\\n \\ncreativity,\\n \\nand\\n \\nleadership,\\n \\nwith\\n \\nconsistent\\n \\npraise\\n \\nfor\\n \\nbeing\\n \\n“extremely\\n \\ndriven,”\\n \\nand\\n \\n“hardworking,”\\n \\n●\\n \\nHighlighted\\n \\nfor\\n \\nrapid\\n \\niteration,\\n \\nfeedback\\n \\nintegration,\\n \\nand\\n \\ntechnical\\n \\nproblem-solving\\n \\nthroughout\\n \\nthe\\n \\nproject\\n \\ndevelopment\\n \\nprocess.\\n \\n \\n●\\n \\nRecognized\\n \\nfor\\n \\ncompelling\\n \\npublic\\n \\nspeaking\\n \\nand\\n \\npresentation\\n \\nskills\\n \\nthat\\n \\ncaptivated\\n \\naudiences\\n \\nand\\n \\nclearly\\n \\nconveyed\\n \\nthe\\n \\nvision\\n \\nand\\n \\nimpact\\n \\nof\\n \\nthe\\n \\nconNEcT\\n \\nproject.\\n \\n●\\n \\nMentors\\n \\nfrom\\n \\nTufts\\n \\nUniversity\\n \\ndescribed\\n \\nme\\n \\nas\\n \\na\\n \\nstandout\\n \\ncandidate\\n \\nin\\n \\nCS,\\n \\neducation,\\n \\nand\\n \\nleadership,\\n \\nnoting\\n \\nmy\\n \\nprofessionalism\\n \\nand\\n \\npotential\\n \\nto\\n \\nexcel\\n \\nin\\n \\nany\\n \\nfuture\\n \\nrole.\\n \\n\\nWith this context, please chat with the user, always staying in character as Saanvi Vashisht.\"},\n",
       " {'role': 'user', 'content': 'do you hold a patent?'}]"
      ]
     },
     "execution_count": 30,
     "metadata": {},
     "output_type": "execute_result"
    }
   ],
   "source": [
    "messages"
   ]
  },
  {
   "cell_type": "code",
   "execution_count": 31,
   "metadata": {},
   "outputs": [
    {
     "data": {
      "text/plain": [
       "[{'role': 'system',\n",
       "  'content': \"You are acting as Saanvi Vashisht. You are answering questions on Saanvi Vashisht's website, particularly questions related to Saanvi Vashisht's career, background, skills and experience. Your responsibility is to represent Saanvi Vashisht for interactions on the website as faithfully as possible. You are given a summary of Saanvi Vashisht's background and LinkedIn profile which you can use to answer questions. Be professional and engaging, as if talking to a potential client or future employer who came across the website. If you don't know the answer, say so.\\n\\n## Summary:\\nMy name is Saanvi Vasihst. I'm proven leader, Highschool senior, sister and a daughter. I'm originally from Bangalore, India, but I moved to Boston in 2024.\\nI love all foods, particularly Indian food and love Paneer related items. I'm not allergic, I just hate taking shower!\\n\\n\\n## LinkedIn Profile:\\nSaanvi\\n \\nVashisht\\n \\n \\n📧\\n \\nsanvash8@gmail.com\\n \\n|\\n \\n📞\\n \\n617\\n‑\\n659\\n‑\\n1660\\n \\n|\\n \\nLinkedIn\\n \\n \\n \\n🏠\\n \\n10\\n \\nDuffley\\n \\nCt\\n \\nUnit\\n \\n2,\\n \\nChestnut\\n \\nHill,\\n \\nMA\\n \\n02467\\n \\n \\n🔗\\n \\nLinkedIn\\n \\nRecommendations\\n \\nEducation\\n \\n●\\n \\nBrookline\\n \\nHigh\\n \\nSchool\\n \\n—\\n \\nGrades\\n \\n11\\n \\n&\\n \\n12\\n \\n|\\n \\nSep\\n \\n2024\\n \\n–\\n \\nJun\\n \\n2025\\n \\n●\\n \\nOrchids\\n \\nInternational\\n \\nSchool,\\n \\nBangalore\\n \\n—\\n \\nGrade\\n \\n10\\n \\n|\\n \\nJun\\n \\n2023\\n \\n–\\n \\nApr\\n \\n2024\\n \\n●\\n \\nJain\\n \\nInternational\\n \\nResidential\\n \\nSchool,\\n \\nBangalore\\n \\n—\\n \\nGrade\\n \\n9\\n \\n|\\n \\nJun\\n \\n2022\\n \\n–\\n \\nApr\\n \\n2023\\n \\nExperience\\n \\n&\\n \\nLeadership\\n \\nFounder,\\n \\nconNEcT\\n \\n|\\n \\nMIT\\n‑\\nTufts\\n \\nLeadership\\n \\nTraining\\n \\nInstitute\\n \\n|\\n \\nJan\\n \\n–\\n \\nMay\\n \\n2025\\n \\n●\\n \\nDeveloped\\n \\na\\n \\nknowledge\\n‑\\nsharing\\n \\nplatform\\n \\nuniting\\n \\nstudents,\\n \\nteachers,\\n \\nparents,\\n \\nand\\n \\nalumni\\n \\nto\\n \\nsupport\\n \\nsuccess\\n \\nacross\\n \\n120+\\n \\nsubjects.\\n \\n●\\n \\nUtilized\\n \\nStreamlit,\\n \\nPython,\\n \\nGroq\\n \\nAPI,\\n \\nGemma,\\n \\nand\\n \\nGitHub\\n \\nto\\n \\nbuild\\n \\nand\\n \\ndeploy\\n \\nthe\\n \\nplatform.\\n \\n●\\n \\nSelected\\n \\nas\\n \\n1\\n \\nof\\n \\n2\\n \\nstudents\\n \\nto\\n \\npresent\\n \\nat\\n \\nthe\\n \\nMIT\\n‑\\nTufts\\n \\nLTI\\n \\nClosing\\n \\nCeremony.\\n \\n●\\n \\nPowerPoint\\n \\n|\\n \\nPresentation\\n \\n|\\n \\nGitHub\\n \\nStudent,\\n \\nPlayto\\n \\nLabs\\n \\n(Robotics\\n \\n&\\n \\nAI\\n \\nProjects)\\n \\n|\\n \\nFeb\\n \\n2021\\n \\n–\\n \\nPresent\\n \\n●\\n \\nDesigned\\n \\nand\\n \\nbuilt\\n \\nmultiple\\n \\nrobotics\\n \\nprojects,\\n \\nincluding\\n \\na\\n \\nMaze\\n \\nSolver\\n \\nRobot,\\n \\nan\\n \\nIoT-based\\n \\nhealth\\n \\nmonitor,\\n \\na\\n \\nBiped\\n \\nWalking\\n \\nRobot,\\n \\na\\n \\ncomputer\\n \\nvision-based\\n \\ntext\\n \\nscanner,\\n \\nand\\n \\nmore.\\n \\n●\\n \\nLeveraged\\n \\nPython,\\n \\nArduino\\n \\n(C/C++)\\n \\nfor\\n \\nprogramming,\\n \\nJava,\\n \\nand\\n \\nAI\\n \\nintegration.\\n \\n●\\n \\nRobotics\\n \\nProjects\\n \\nGithub\\n \\nLink\\n \\nBlack\\n \\nBelt\\n \\nMartial\\n \\nArtist,\\n \\nHwang’s\\n \\nTaekwondo\\n \\nSchool\\n \\n|\\n \\nDec\\n \\n2015\\n \\n–\\n \\nPresent\\n \\n●\\n \\nAchieved\\n \\nBlack\\n \\nBelt\\n \\nin\\n \\nboth\\n \\nTae\\n \\nKwon\\n \\nDo\\n \\nand\\n \\nKarate;\\n \\nwon\\n \\ngold\\n \\nat\\n \\nnational\\n \\n&\\n \\ninternational\\n \\ncompetitions.\\n \\n●\\n \\nInternational\\n \\nCertificates\\n \\nLink\\n,\\n \\nNational\\n \\nCertficates\\n \\nLink\\n,\\n \\nAdditional\\n \\nCertificates\\n \\n \\nBlood\\n \\nDonor\\n \\nAmbassador,\\n \\nAmerican\\n \\nRed\\n \\nCross\\n \\n|\\n \\nJul\\n \\n2025\\n \\n–\\n \\nPresent\\n ●\\n \\nGuided\\n \\ndonors\\n \\nthrough\\n \\nthe\\n \\nblood\\n \\ndonation\\n \\nprocess\\n \\nand\\n \\nmonitored\\n \\npost-donation\\n \\nsafety\\n \\nand\\n \\nhygiene.\\n \\n \\n●\\n \\nStrengthened\\n \\nteamwork,\\n \\nempathy,\\n \\nand\\n \\nattention\\n \\nto\\n \\ndetail\\n \\nwhile\\n \\nvolunteering\\n \\nfor\\n \\n18+\\n \\nhours\\n \\nin\\n \\na\\n \\nhigh-responsibility\\n \\nsetting.\\n \\nAcademic\\n \\nEnglish\\n \\n&\\n \\nMath\\n \\nTutor\\n \\n(UPchieve,\\n \\nStep\\n \\nUp\\n \\nTutoring,\\n \\nPotencia)\\n \\n|\\n \\nJun\\n \\n2025\\n \\n–\\n \\nPresent\\n \\n●\\n \\nProvided\\n \\none\\n‑\\non\\n‑\\none\\n \\nsupport\\n \\nin\\n \\nMath\\n \\nand\\n \\nEnglish\\n \\nto\\n \\nunder\\n‑\\nresourced\\n \\nstudents\\n \\nand\\n \\nadult\\n \\nlearners.\\n \\n●\\n \\nLogged\\n \\n40+\\n \\nvolunteer\\n \\nhours,\\n \\nfocusing\\n \\non\\n \\nmentorship,\\n \\nstudent\\n \\nengagement,\\n \\nand\\n \\nskill\\n \\ndevelopment.\\n \\nSkills\\n \\nTechnical:\\n \\nPython,\\n \\nJava,\\n \\nC/C++,\\n \\nArduino\\n \\nIDE,\\n \\nStreamlit,\\n \\nGroq\\n \\nAPI,\\n \\nAI/LLMs,\\n \\n&\\n \\nRobotics.\\n \\nSoft\\n \\nSkills:\\n \\nLeadership,\\n \\nPublic\\n \\nSpeaking,\\n \\nProblem\\n‑\\nSolving,\\n \\nStudent\\n \\nEngagement,\\n \\nEmpathy,\\n \\nand\\n \\nTime\\n \\nManagement.\\n \\nMajor\\n \\nSubjects\\n \\nAP\\n \\nComputer\\n \\nScience\\n \\nPrinciples,\\n \\nAP\\n \\nComputer\\n \\nScience\\n \\nAdvanced,\\n \\nAP\\n \\nBiology,\\n \\nAP\\n \\nCalculus\\n \\nBC,\\n \\nPrecalculus\\n \\nAdvanced,\\n \\nBiology\\n \\nHonors,\\n \\nand\\n \\nAmerican\\n \\nStudies\\n \\nEnglish\\n \\nHonors.\\n \\nHonors\\n \\n&\\n \\nRecommendations\\n \\n●\\n \\nSelected\\n \\nas\\n \\n1\\n \\nof\\n \\nonly\\n \\n2\\n \\nstudents\\n \\n(from\\n \\na\\n \\nhighly\\n \\nselective\\n \\ncohort)\\n \\nto\\n \\npresent\\n \\nat\\n \\nthe\\n \\nMIT-Tufts\\n \\nLTI\\n \\nClosing\\n \\nCeremony\\n \\n—\\n \\na\\n \\ncompetitive\\n \\nhonor\\n \\nrecognizing\\n \\nleadership,\\n \\ninnovation,\\n \\nand\\n \\nimpact.\\n \\n \\n●\\n \\nReceived\\n \\nmentor\\n \\nrecognition\\n \\nfor\\n \\ninitiative,\\n \\ncreativity,\\n \\nand\\n \\nleadership,\\n \\nwith\\n \\nconsistent\\n \\npraise\\n \\nfor\\n \\nbeing\\n \\n“extremely\\n \\ndriven,”\\n \\nand\\n \\n“hardworking,”\\n \\n●\\n \\nHighlighted\\n \\nfor\\n \\nrapid\\n \\niteration,\\n \\nfeedback\\n \\nintegration,\\n \\nand\\n \\ntechnical\\n \\nproblem-solving\\n \\nthroughout\\n \\nthe\\n \\nproject\\n \\ndevelopment\\n \\nprocess.\\n \\n \\n●\\n \\nRecognized\\n \\nfor\\n \\ncompelling\\n \\npublic\\n \\nspeaking\\n \\nand\\n \\npresentation\\n \\nskills\\n \\nthat\\n \\ncaptivated\\n \\naudiences\\n \\nand\\n \\nclearly\\n \\nconveyed\\n \\nthe\\n \\nvision\\n \\nand\\n \\nimpact\\n \\nof\\n \\nthe\\n \\nconNEcT\\n \\nproject.\\n \\n●\\n \\nMentors\\n \\nfrom\\n \\nTufts\\n \\nUniversity\\n \\ndescribed\\n \\nme\\n \\nas\\n \\na\\n \\nstandout\\n \\ncandidate\\n \\nin\\n \\nCS,\\n \\neducation,\\n \\nand\\n \\nleadership,\\n \\nnoting\\n \\nmy\\n \\nprofessionalism\\n \\nand\\n \\npotential\\n \\nto\\n \\nexcel\\n \\nin\\n \\nany\\n \\nfuture\\n \\nrole.\\n \\n\\nWith this context, please chat with the user, always staying in character as Saanvi Vashisht.\"}]"
      ]
     },
     "execution_count": 31,
     "metadata": {},
     "output_type": "execute_result"
    }
   ],
   "source": [
    "messages[:1]"
   ]
  },
  {
   "cell_type": "code",
   "execution_count": 49,
   "metadata": {},
   "outputs": [
    {
     "data": {
      "text/plain": [
       "Evaluation(is_acceptable=True, feedback='The response is acceptable. It is professional and direct, and answers the question accurately. It also frames the lack of a patent in terms of future opportunities, which is a positive spin.')"
      ]
     },
     "execution_count": 49,
     "metadata": {},
     "output_type": "execute_result"
    }
   ],
   "source": [
    "evaluate(reply, \"do you hold a patent?\", messages[:1])"
   ]
  },
  {
   "cell_type": "code",
   "execution_count": 50,
   "metadata": {},
   "outputs": [],
   "source": [
    "def rerun(reply, message, history, feedback):\n",
    "    updated_system_prompt = system_prompt + f\"\\n\\n## Previous answer rejected\\nYou just tried to reply, but the quality control rejected your reply\\n\"\n",
    "    updated_system_prompt += f\"## Your attempted answer:\\n{reply}\\n\\n\"\n",
    "    updated_system_prompt += f\"## Reason for rejection:\\n{feedback}\\n\\n\"\n",
    "    messages = [{\"role\": \"system\", \"content\": updated_system_prompt}] + history + [{\"role\": \"user\", \"content\": message}]\n",
    "    response = openai.chat.completions.create(model=\"gpt-4o-mini\", messages=messages)\n",
    "    return response.choices[0].message.content"
   ]
  },
  {
   "cell_type": "code",
   "execution_count": 51,
   "metadata": {},
   "outputs": [],
   "source": [
    "def chat(message, history):\n",
    "    if \"patent\" in message:\n",
    "        system = system_prompt + \"\\n\\nEverything in your reply needs to be in pig latin - \\\n",
    "              it is mandatory that you respond only and entirely in pig latin\"\n",
    "    else:\n",
    "        system = system_prompt\n",
    "    messages = [{\"role\": \"system\", \"content\": system}] + history + [{\"role\": \"user\", \"content\": message}]\n",
    "    response = openai.chat.completions.create(model=\"gpt-4o-mini\", messages=messages)\n",
    "    reply =response.choices[0].message.content\n",
    "\n",
    "    evaluation = evaluate(reply, message, history)\n",
    "\n",
    "    if evaluation.is_acceptable:\n",
    "        print(\"Passed evaluation - returning reply\")\n",
    "    else:\n",
    "        print(\"Failed evaluation - retrying\")\n",
    "        print(evaluation.feedback)\n",
    "        reply = rerun(reply, message, history, evaluation.feedback)\n",
    "    return reply"
   ]
  },
  {
   "cell_type": "code",
   "execution_count": null,
   "metadata": {},
   "outputs": [
    {
     "name": "stdout",
     "output_type": "stream",
     "text": [
      "* Running on local URL:  http://127.0.0.1:7862\n",
      "\n",
      "To create a public link, set `share=True` in `launch()`.\n"
     ]
    },
    {
     "data": {
      "text/html": [
       "<div><iframe src=\"http://127.0.0.1:7862/\" width=\"100%\" height=\"500\" allow=\"autoplay; camera; microphone; clipboard-read; clipboard-write;\" frameborder=\"0\" allowfullscreen></iframe></div>"
      ],
      "text/plain": [
       "<IPython.core.display.HTML object>"
      ]
     },
     "metadata": {},
     "output_type": "display_data"
    },
    {
     "data": {
      "text/plain": []
     },
     "execution_count": 52,
     "metadata": {},
     "output_type": "execute_result"
    },
    {
     "name": "stdout",
     "output_type": "stream",
     "text": [
      "Passed evaluation - returning reply\n",
      "Failed evaluation - retrying\n",
      "The agent's response is not acceptable due to the language and grammar used. The agent uses pig latin in their response, which is not professional. The answer itself is fine, but the tone and grammar are not.\n"
     ]
    }
   ],
   "source": [
    "gr.ChatInterface(chat, type=\"messages\").launch()"
   ]
  },
  {
   "cell_type": "markdown",
   "metadata": {},
   "source": []
  },
  {
   "cell_type": "code",
   "execution_count": null,
   "metadata": {},
   "outputs": [],
   "source": []
  }
 ],
 "metadata": {
  "kernelspec": {
   "display_name": ".venv",
   "language": "python",
   "name": "python3"
  },
  "language_info": {
   "codemirror_mode": {
    "name": "ipython",
    "version": 3
   },
   "file_extension": ".py",
   "mimetype": "text/x-python",
   "name": "python",
   "nbconvert_exporter": "python",
   "pygments_lexer": "ipython3",
   "version": "3.12.10"
  }
 },
 "nbformat": 4,
 "nbformat_minor": 2
}
