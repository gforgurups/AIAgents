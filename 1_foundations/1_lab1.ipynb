{
 "cells": [
  {
   "cell_type": "code",
   "execution_count": 2,
   "metadata": {},
   "outputs": [
    {
     "name": "stdout",
     "output_type": "stream",
     "text": [
      "OpenAI API Key exists and begins sk-proj-\n"
     ]
    }
   ],
   "source": [
    "from dotenv import load_dotenv\n",
    "import os\n",
    "\n",
    "load_dotenv(override=True)\n",
    "openai_api_key = os.getenv('OPENAI_API_KEY')\n",
    "\n",
    "if openai_api_key:\n",
    "    print(f\"OpenAI API Key exists and begins {openai_api_key[:8]}\")\n",
    "else:\n",
    "    print(\"OpenAI API Key not set\")"
   ]
  },
  {
   "cell_type": "code",
   "execution_count": 4,
   "metadata": {},
   "outputs": [],
   "source": [
    "from openai import OpenAI\n",
    "openai_client = OpenAI()"
   ]
  },
  {
   "cell_type": "code",
   "execution_count": 5,
   "metadata": {},
   "outputs": [],
   "source": [
    "def get_response(messages):\n",
    "    response = openai_client.chat.completions.create(\n",
    "        model=\"gpt-4o-mini\",\n",
    "        messages=messages\n",
    "    )\n",
    "    return response.choices[0].message.content\n"
   ]
  },
  {
   "cell_type": "code",
   "execution_count": 6,
   "metadata": {},
   "outputs": [
    {
     "name": "stdout",
     "output_type": "stream",
     "text": [
      "The capital of France is Paris.\n"
     ]
    }
   ],
   "source": [
    "messages=[{\"role\": \"user\", \"content\": \"What is the capital of France?\"}]\n",
    "print(get_response(messages))"
   ]
  },
  {
   "cell_type": "code",
   "execution_count": 8,
   "metadata": {},
   "outputs": [
    {
     "name": "stdout",
     "output_type": "stream",
     "text": [
      "What is the next number in the following sequence: 2, 6, 12, 20, 30, ?\n"
     ]
    }
   ],
   "source": [
    "question = \"Please propose a hard, challenging question to assess someone's IQ. Respond only with the question.\"\n",
    "messages = [{\"role\": \"user\", \"content\": question}]\n",
    "question = get_response(messages)\n",
    "print(question)"
   ]
  },
  {
   "cell_type": "code",
   "execution_count": 9,
   "metadata": {},
   "outputs": [
    {
     "name": "stdout",
     "output_type": "stream",
     "text": [
      "To find the next number in the sequence \\(2, 6, 12, 20, 30\\), let's first determine the differences between consecutive terms:\n",
      "\n",
      "- \\(6 - 2 = 4\\)\n",
      "- \\(12 - 6 = 6\\)\n",
      "- \\(20 - 12 = 8\\)\n",
      "- \\(30 - 20 = 10\\)\n",
      "\n",
      "Now we have the sequence of differences: \\(4, 6, 8, 10\\).\n",
      "\n",
      "We can see that the differences themselves are increasing by \\(2\\). Continuing this pattern, the next difference will be \\(10 + 2 = 12\\).\n",
      "\n",
      "Now, we can add this difference to the last number in the original sequence:\n",
      "\n",
      "\\(30 + 12 = 42\\).\n",
      "\n",
      "Thus, the next number in the sequence is \\(42\\).\n"
     ]
    }
   ],
   "source": [
    "messages=[{\"role\": \"user\", \"content\": question}]\n",
    "answer = get_response(messages)\n",
    "print(answer)"
   ]
  },
  {
   "cell_type": "code",
   "execution_count": 10,
   "metadata": {},
   "outputs": [
    {
     "data": {
      "text/markdown": [
       "To find the next number in the sequence \\(2, 6, 12, 20, 30\\), let's first determine the differences between consecutive terms:\n",
       "\n",
       "- \\(6 - 2 = 4\\)\n",
       "- \\(12 - 6 = 6\\)\n",
       "- \\(20 - 12 = 8\\)\n",
       "- \\(30 - 20 = 10\\)\n",
       "\n",
       "Now we have the sequence of differences: \\(4, 6, 8, 10\\).\n",
       "\n",
       "We can see that the differences themselves are increasing by \\(2\\). Continuing this pattern, the next difference will be \\(10 + 2 = 12\\).\n",
       "\n",
       "Now, we can add this difference to the last number in the original sequence:\n",
       "\n",
       "\\(30 + 12 = 42\\).\n",
       "\n",
       "Thus, the next number in the sequence is \\(42\\)."
      ],
      "text/plain": [
       "<IPython.core.display.Markdown object>"
      ]
     },
     "metadata": {},
     "output_type": "display_data"
    }
   ],
   "source": [
    "from IPython.display import display, Markdown\n",
    "display(Markdown(answer))"
   ]
  },
  {
   "cell_type": "code",
   "execution_count": 11,
   "metadata": {},
   "outputs": [
    {
     "name": "stdout",
     "output_type": "stream",
     "text": [
      "Healthcare.\n",
      "1. Rising costs of healthcare\n",
      "2. Access to care and health disparities\n",
      "3. Regulatory compliance and changing policies\n",
      "4. Integration of technology and electronic health records (EHR)\n",
      "5. Patient data privacy and cybersecurity\n",
      "6. Workforce shortages and retention\n",
      "7. Aging population and chronic disease management\n",
      "8. Quality of care and patient outcomes\n",
      "9. Value-based care transition\n",
      "10. Health insurance complexity and reimbursement issues\n"
     ]
    },
    {
     "data": {
      "text/markdown": [
       "**Agentic AI Solution**\n",
       "\n",
       "1. **Predictive Analytics for Cost Management**: Implement AI-driven predictive analytics to forecast healthcare costs, identify inefficiencies, and optimize resource allocation.\n",
       "\n",
       "2. **Telehealth and AI-assisted Triage**: Use AI chatbots and telehealth platforms to enhance access, triage patients based on symptoms, and connect underserved populations with remote care providers.\n",
       "\n",
       "3. **Regulatory Compliance AI Assistant**: Deploy an AI system that continuously monitors changes in healthcare regulations and auto-generates compliance reports, ensuring adherence with evolving policies.\n",
       "\n",
       "4. **Seamless EHR Integration**: Utilize AI to automate the integration of multiple EHR systems, enhancing interoperability and streamlining patient data management across different healthcare providers.\n",
       "\n",
       "5. **Enhanced Cybersecurity with AI**: Leverage AI algorithms for real-time threat detection and response, ensuring robust data privacy measures and protecting patient information from cyberattacks.\n",
       "\n",
       "6. **AI in Workforce Management**: Implement AI-driven tools for workforce scheduling and retention analytics, helping healthcare organizations optimize staffing and reduce burnout.\n",
       "\n",
       "7. **Chronic Disease Management Programs**: Create personalized AI-based management plans for chronic disease patients that adapt over time, utilizing remote monitoring tools for continuous health assessment.\n",
       "\n",
       "8. **Quality Improvement Analytics**: Employ AI to analyze patient outcomes and care quality metrics, providing actionable insights for clinical staff to enhance the quality of care delivered.\n",
       "\n",
       "9. **Value-Based Care Optimization**: Design AI tools that analyze outcomes versus costs for various treatments, helping healthcare providers transition more effectively to a value-based care model.\n",
       "\n",
       "10. **AI-driven Insurance Navigation**: Develop AI applications that simplify health insurance processes, providing clear information on coverage and reimbursement, streamlining claims management, and reducing administrative burdens."
      ],
      "text/plain": [
       "<IPython.core.display.Markdown object>"
      ]
     },
     "metadata": {},
     "output_type": "display_data"
    }
   ],
   "source": [
    "question = \"Please pick a business area that might be worth exploring for an Agentic AI opportunity. Respond only with the business area.\"\n",
    "messages = [{\"role\": \"user\", \"content\": question}]\n",
    "business_area = get_response(messages)\n",
    "print(business_area)\n",
    "\n",
    "question = \"Identify the key challenges in the business area of \" + business_area + \". Respond only with the challenges.\"\n",
    "messages = [{\"role\": \"user\", \"content\": question}]\n",
    "challenges = get_response(messages)\n",
    "print(challenges)\n",
    "\n",
    "question = \"Propose the Agentic AI solution for the challenges \" + challenges + \" in the business area of \" + business_area + \". Respond only with the solution.\"\n",
    "messages = [{\"role\": \"user\", \"content\": question}]\n",
    "solution = get_response(messages)\n",
    "display(Markdown(solution))"
   ]
  }
 ],
 "metadata": {
  "kernelspec": {
   "display_name": ".venv",
   "language": "python",
   "name": "python3"
  },
  "language_info": {
   "codemirror_mode": {
    "name": "ipython",
    "version": 3
   },
   "file_extension": ".py",
   "mimetype": "text/x-python",
   "name": "python",
   "nbconvert_exporter": "python",
   "pygments_lexer": "ipython3",
   "version": "3.12.10"
  }
 },
 "nbformat": 4,
 "nbformat_minor": 2
}
